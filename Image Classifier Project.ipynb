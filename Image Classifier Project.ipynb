{
 "cells": [
  {
   "cell_type": "markdown",
   "metadata": {},
   "source": [
    "# Developing an AI application\n",
    "\n",
    "Going forward, AI algorithms will be incorporated into more and more everyday applications. For example, you might want to include an image classifier in a smart phone app. To do this, you'd use a deep learning model trained on hundreds of thousands of images as part of the overall application architecture. A large part of software development in the future will be using these types of models as common parts of applications. \n",
    "\n",
    "In this project, you'll train an image classifier to recognize different species of flowers. You can imagine using something like this in a phone app that tells you the name of the flower your camera is looking at. In practice you'd train this classifier, then export it for use in your application. We'll be using [this dataset](http://www.robots.ox.ac.uk/~vgg/data/flowers/102/index.html) of 102 flower categories, you can see a few examples below. \n",
    "\n",
    "<img src='assets/Flowers.png' width=500px>\n",
    "\n",
    "The project is broken down into multiple steps:\n",
    "\n",
    "* Load and preprocess the image dataset\n",
    "* Train the image classifier on your dataset\n",
    "* Use the trained classifier to predict image content\n",
    "\n",
    "We'll lead you through each part which you'll implement in Python.\n",
    "\n",
    "When you've completed this project, you'll have an application that can be trained on any set of labeled images. Here your network will be learning about flowers and end up as a command line application. But, what you do with your new skills depends on your imagination and effort in building a dataset. For example, imagine an app where you take a picture of a car, it tells you what the make and model is, then looks up information about it. Go build your own dataset and make something new.\n",
    "\n",
    "First up is importing the packages you'll need. It's good practice to keep all the imports at the beginning of your code. As you work through this notebook and find you need to import a package, make sure to add the import up here."
   ]
  },
  {
   "cell_type": "code",
   "execution_count": 1,
   "metadata": {},
   "outputs": [],
   "source": [
    "%matplotlib inline\n",
    "import matplotlib.pyplot as plt\n",
    "\n",
    "import torch\n",
    "from torch import nn\n",
    "from torch import optim\n",
    "from torchvision import transforms, datasets, models\n",
    "from collections import OrderedDict\n",
    "from PIL import Image\n",
    "import numpy as np\n",
    "\n",
    "import json"
   ]
  },
  {
   "cell_type": "markdown",
   "metadata": {},
   "source": [
    "## Load the data\n",
    "\n",
    "Here you'll use `torchvision` to load the data ([documentation](http://pytorch.org/docs/0.3.0/torchvision/index.html)). The data should be included alongside this notebook, otherwise you can [download it here](https://s3.amazonaws.com/content.udacity-data.com/nd089/flower_data.tar.gz). The dataset is split into three parts, training, validation, and testing. For the training, you'll want to apply transformations such as random scaling, cropping, and flipping. This will help the network generalize leading to better performance. You'll also need to make sure the input data is resized to 224x224 pixels as required by the pre-trained networks.\n",
    "\n",
    "The validation and testing sets are used to measure the model's performance on data it hasn't seen yet. For this you don't want any scaling or rotation transformations, but you'll need to resize then crop the images to the appropriate size.\n",
    "\n",
    "The pre-trained networks you'll use were trained on the ImageNet dataset where each color channel was normalized separately. For all three sets you'll need to normalize the means and standard deviations of the images to what the network expects. For the means, it's `[0.485, 0.456, 0.406]` and for the standard deviations `[0.229, 0.224, 0.225]`, calculated from the ImageNet images.  These values will shift each color channel to be centered at 0 and range from -1 to 1.\n",
    " "
   ]
  },
  {
   "cell_type": "code",
   "execution_count": 2,
   "metadata": {},
   "outputs": [],
   "source": [
    "data_dir = 'flowers'\n",
    "train_dir = data_dir + '/train'\n",
    "valid_dir = data_dir + '/valid'\n",
    "test_dir = data_dir + '/test'\n"
   ]
  },
  {
   "cell_type": "code",
   "execution_count": 3,
   "metadata": {},
   "outputs": [],
   "source": [
    "# DONE: Define your transforms for the training, validation, and testing sets\n",
    "data_transforms = {'train_transforms': transforms.Compose([transforms.RandomResizedCrop(224),\n",
    "                                       transforms.RandomHorizontalFlip(),\n",
    "                                       transforms.RandomRotation(30),\n",
    "                                       transforms.ToTensor(),\n",
    "                                       transforms.Normalize([0.485, 0.456, 0.406], \n",
    "                                                            [0.229, 0.224, 0.225])]),\n",
    "                   'valid_transforms': transforms.Compose([transforms.RandomResizedCrop(224),\n",
    "                                       transforms.ToTensor(),\n",
    "                                       transforms.Normalize([0.485, 0.456, 0.406], \n",
    "                                                            [0.229, 0.224, 0.225])]),\n",
    "                   'test_transforms': transforms.Compose([transforms.RandomResizedCrop(224),\n",
    "                                      transforms.ToTensor(),\n",
    "                                      transforms.Normalize([0.485, 0.456, 0.406], \n",
    "                                                            [0.229, 0.224, 0.225])])\n",
    "                  }\n",
    "\n",
    "# DONE: Load the datasets with ImageFolder\n",
    "image_datasets = {'train_data': datasets.ImageFolder(train_dir, transform=data_transforms['train_transforms']),\n",
    "                   'valid_data': datasets.ImageFolder(valid_dir, transform=data_transforms['valid_transforms']),\n",
    "                   'test_data': datasets.ImageFolder(valid_dir, transform=data_transforms['test_transforms'])\n",
    "                  }\n",
    "\n",
    "# DONE: Using the image datasets and the trainforms, define the dataloaders\n",
    "dataloaders= {'trainloader': torch.utils.data.DataLoader(image_datasets['train_data'], batch_size=64, shuffle=True),\n",
    "              'validloader': torch.utils.data.DataLoader(image_datasets['valid_data'], batch_size=32, shuffle=True),\n",
    "              'testloader': torch.utils.data.DataLoader(image_datasets['test_data'], batch_size=32, shuffle=True)\n",
    "             }"
   ]
  },
  {
   "cell_type": "markdown",
   "metadata": {},
   "source": [
    "### Label mapping\n",
    "\n",
    "You'll also need to load in a mapping from category label to category name. You can find this in the file `cat_to_name.json`. It's a JSON object which you can read in with the [`json` module](https://docs.python.org/2/library/json.html). This will give you a dictionary mapping the integer encoded categories to the actual names of the flowers."
   ]
  },
  {
   "cell_type": "code",
   "execution_count": 4,
   "metadata": {},
   "outputs": [],
   "source": [
    "with open('cat_to_name.json', 'r') as f:\n",
    "    cat_to_name = json.load(f)"
   ]
  },
  {
   "cell_type": "markdown",
   "metadata": {},
   "source": [
    "# Building and training the classifier\n",
    "\n",
    "Now that the data is ready, it's time to build and train the classifier. As usual, you should use one of the pretrained models from `torchvision.models` to get the image features. Build and train a new feed-forward classifier using those features.\n",
    "\n",
    "We're going to leave this part up to you. If you want to talk through it with someone, chat with your fellow students! You can also ask questions on the forums or join the instructors in office hours.\n",
    "\n",
    "Refer to [the rubric](https://review.udacity.com/#!/rubrics/1663/view) for guidance on successfully completing this section. Things you'll need to do:\n",
    "\n",
    "* Load a [pre-trained network](http://pytorch.org/docs/master/torchvision/models.html) (If you need a starting point, the VGG networks work great and are straightforward to use)\n",
    "* Define a new, untrained feed-forward network as a classifier, using ReLU activations and dropout\n",
    "* Train the classifier layers using backpropagation using the pre-trained network to get the features\n",
    "* Track the loss and accuracy on the validation set to determine the best hyperparameters\n",
    "\n",
    "We've left a cell open for you below, but use as many as you need. Our advice is to break the problem up into smaller parts you can run separately. Check that each part is doing what you expect, then move on to the next. You'll likely find that as you work through each part, you'll need to go back and modify your previous code. This is totally normal!\n",
    "\n",
    "When training make sure you're updating only the weights of the feed-forward network. You should be able to get the validation accuracy above 70% if you build everything right. Make sure to try different hyperparameters (learning rate, units in the classifier, epochs, etc) to find the best model. Save those hyperparameters to use as default values in the next part of the project."
   ]
  },
  {
   "cell_type": "code",
   "execution_count": 5,
   "metadata": {},
   "outputs": [
    {
     "name": "stderr",
     "output_type": "stream",
     "text": [
      "Downloading: \"https://download.pytorch.org/models/vgg16-397923af.pth\" to /root/.torch/models/vgg16-397923af.pth\n",
      "100%|██████████| 553433881/553433881 [00:15<00:00, 36218006.37it/s]\n"
     ]
    },
    {
     "name": "stdout",
     "output_type": "stream",
     "text": [
      "Epoch: 1/8.. Training Loss: 3.888.. Validation Loss: 3.004.. Validation Accuracy: 38.582%..\n",
      "Epoch: 1/8.. Training Loss: 2.646.. Validation Loss: 2.116.. Validation Accuracy: 54.848%..\n",
      "Epoch: 2/8.. Training Loss: 1.812.. Validation Loss: 1.669.. Validation Accuracy: 61.752%..\n",
      "Epoch: 2/8.. Training Loss: 1.627.. Validation Loss: 1.386.. Validation Accuracy: 68.857%..\n",
      "Epoch: 3/8.. Training Loss: 1.243.. Validation Loss: 1.305.. Validation Accuracy: 68.830%..\n",
      "Epoch: 3/8.. Training Loss: 1.296.. Validation Loss: 1.136.. Validation Accuracy: 73.037%..\n",
      "Epoch: 4/8.. Training Loss: 0.937.. Validation Loss: 1.094.. Validation Accuracy: 73.291%..\n",
      "Epoch: 4/8.. Training Loss: 1.120.. Validation Loss: 1.001.. Validation Accuracy: 78.178%..\n",
      "Epoch: 5/8.. Training Loss: 0.724.. Validation Loss: 0.972.. Validation Accuracy: 76.429%..\n",
      "Epoch: 5/8.. Training Loss: 0.977.. Validation Loss: 0.937.. Validation Accuracy: 76.402%..\n",
      "Epoch: 6/8.. Training Loss: 0.635.. Validation Loss: 0.893.. Validation Accuracy: 77.631%..\n",
      "Epoch: 6/8.. Training Loss: 0.900.. Validation Loss: 0.828.. Validation Accuracy: 80.849%..\n",
      "Epoch: 7/8.. Training Loss: 0.512.. Validation Loss: 0.745.. Validation Accuracy: 82.292%..\n",
      "Epoch: 7/8.. Training Loss: 0.818.. Validation Loss: 0.812.. Validation Accuracy: 79.340%..\n",
      "Epoch: 8/8.. Training Loss: 0.437.. Validation Loss: 0.774.. Validation Accuracy: 81.357%..\n",
      "Epoch: 8/8.. Training Loss: 0.764.. Validation Loss: 0.726.. Validation Accuracy: 82.746%..\n"
     ]
    }
   ],
   "source": [
    "# DONE: Build and train your network LET'S DO THIS!!\n",
    "\n",
    "#Load model\n",
    "model = models.vgg16(pretrained=True)\n",
    "\n",
    "#Freeze parameters \n",
    "for param in model.parameters():\n",
    "    param.requires_grad = False\n",
    "    \n",
    "#Create classifier\n",
    "classifier = nn.Sequential(OrderedDict([\n",
    "                          ('fc1', nn.Linear(25088, 510)),\n",
    "                          ('relu1', nn.ReLU()),\n",
    "                          ('dropout1', nn.Dropout(0.1)),\n",
    "                          ('fc2', nn.Linear(510,102)),\n",
    "                          ('output', nn.LogSoftmax(dim=1))\n",
    "                        ]))\n",
    "\n",
    "#Replace vgg16 classifier with self built classifier\n",
    "model.classifier = classifier\n",
    "\n",
    "#Use gpu if available else cpu\n",
    "device = torch.device(\"cuda:0\" if torch.cuda.is_available() else \"cpu\")\n",
    "model.to(device)\n",
    "            \n",
    "#Criterion and optimizer\n",
    "#Update weights of parameters (use momentum)\n",
    "optimizer = optim.Adam(model.classifier.parameters(), lr=0.0001)\n",
    "#Define loss (Negative log likelihood loss)\n",
    "criterion = nn.NLLLoss()\n",
    "\n",
    "#Function for validation    \n",
    "def validation(model, loader, criterion):\n",
    "    loss = 0\n",
    "    accuracy = 0\n",
    "    \n",
    "    for images, labels in iter(loader):\n",
    "\n",
    "        #Shift to gpu\n",
    "        images, labels = images.to(device), labels.to(device)\n",
    "        \n",
    "        #Move to next image and calculate loss \n",
    "        output = model.forward(images)\n",
    "        loss += criterion(output, labels).item()\n",
    "\n",
    "        #Take exponent of log output\n",
    "        ps = torch.exp(output)\n",
    "        #Compare label with predicted class\n",
    "        equality = (labels.data == ps.max(dim=1)[1])\n",
    "        #Correct predictions/Total predictions\n",
    "        accuracy += equality.type(torch.FloatTensor).mean()\n",
    "    \n",
    "    return loss, accuracy\n",
    "    \n",
    "#Train classifier layers using backpropogation, track loss and accuracy\n",
    "epoch = 8\n",
    "print_every = 50\n",
    "steps = 0\n",
    "\n",
    "for e in range(epoch):\n",
    "    running_loss = 0\n",
    "    for images, labels in iter(dataloaders['trainloader']):\n",
    "        \n",
    "        #Training mode- dropout on\n",
    "        model.train()\n",
    "        \n",
    "        steps += 1\n",
    "        \n",
    "        #Shift to gpu\n",
    "        images, labels = images.to(device), labels.to(device)\n",
    "        \n",
    "        #Reset optimizer to 0\n",
    "        optimizer.zero_grad()\n",
    "        \n",
    "        #Forward and backward passes\n",
    "        output = model.forward(images) \n",
    "        loss = criterion(output, labels)\n",
    "        loss.backward()\n",
    "        optimizer.step()\n",
    "        \n",
    "        #Track loss\n",
    "        running_loss += loss.item()\n",
    "        \n",
    "        #Print loss every 50 steps\n",
    "        if steps % print_every == 0:\n",
    "            \n",
    "            #Evaluation mode- dropout turned off\n",
    "            model.eval()\n",
    "            \n",
    "            #Turn off gradients\n",
    "            with torch.no_grad():\n",
    "                valid_loss, accuracy = validation(model, dataloaders['validloader'], criterion)\n",
    "                \n",
    "            print(\"Epoch: {}/{}..\".format(e+1,epoch),\n",
    "                 \"Training Loss: {:.3f}..\".format(running_loss/print_every),\n",
    "                 \"Validation Loss: {:.3f}..\".format(valid_loss/len(dataloaders['validloader'])),\n",
    "                 \"Validation Accuracy: {:.3f}%..\".format(100*(accuracy/len(dataloaders['validloader']))))\n",
    "        \n",
    "            running_loss = 0\n",
    "            \n",
    "            #Training mode- dropout truned on\n",
    "            model.train()\n",
    "            \n",
    "    "
   ]
  },
  {
   "cell_type": "markdown",
   "metadata": {},
   "source": [
    "## Testing your network\n",
    "\n",
    "It's good practice to test your trained network on test data, images the network has never seen either in training or validation. This will give you a good estimate for the model's performance on completely new images. Run the test images through the network and measure the accuracy, the same way you did validation. You should be able to reach around 70% accuracy on the test set if the model has been trained well."
   ]
  },
  {
   "cell_type": "code",
   "execution_count": 43,
   "metadata": {},
   "outputs": [
    {
     "name": "stdout",
     "output_type": "stream",
     "text": [
      "Test Loss: 0.7534... Test Accuracy: 81.2366%...\n"
     ]
    }
   ],
   "source": [
    "# DONE: Do validation on the test set\n",
    "\n",
    "#Evaluation mode- dropout turned off\n",
    "model.eval()\n",
    "\n",
    "#Turn off gradients\n",
    "with torch.no_grad():\n",
    "    test_loss, accuracy = validation(model, dataloaders['testloader'], criterion)\n",
    "    \n",
    "print(\"Test Loss: {:.4f}...\".format(test_loss/len(dataloaders['testloader'])),\n",
    "      \"Test Accuracy: {:.4f}%...\".format(100*(accuracy/len(dataloaders['testloader']))))"
   ]
  },
  {
   "cell_type": "markdown",
   "metadata": {},
   "source": [
    "## Save the checkpoint\n",
    "\n",
    "Now that your network is trained, save the model so you can load it later for making predictions. You probably want to save other things such as the mapping of classes to indices which you get from one of the image datasets: `image_datasets['train'].class_to_idx`. You can attach this to the model as an attribute which makes inference easier later on.\n",
    "\n",
    "```model.class_to_idx = image_datasets['train'].class_to_idx```\n",
    "\n",
    "Remember that you'll want to completely rebuild the model later so you can use it for inference. Make sure to include any information you need in the checkpoint. If you want to load the model and keep training, you'll want to save the number of epochs as well as the optimizer state, `optimizer.state_dict`. You'll likely want to use this trained model in the next part of the project, so best to save it now."
   ]
  },
  {
   "cell_type": "code",
   "execution_count": 83,
   "metadata": {},
   "outputs": [],
   "source": [
    "# DONE: Save the checkpoint\n",
    "model.to('cpu')\n",
    "# Dictionary checkpoint contains architecture parameters \n",
    "checkpoint = {'model': \"vgg16\",\n",
    "              'classifier': classifier,\n",
    "              'epoch': epoch,  \n",
    "              'optimizer': optimizer.state_dict(), \n",
    "              'state_dict': model.state_dict(), \n",
    "              'class_to_idx': image_datasets['train_data'].class_to_idx \n",
    "             }\n",
    "torch.save(checkpoint, 'checkpoint.pth')"
   ]
  },
  {
   "cell_type": "markdown",
   "metadata": {},
   "source": [
    "## Loading the checkpoint\n",
    "\n",
    "At this point it's good to write a function that can load a checkpoint and rebuild the model. That way you can come back to this project and keep working on it without having to retrain the network."
   ]
  },
  {
   "cell_type": "code",
   "execution_count": 84,
   "metadata": {},
   "outputs": [
    {
     "name": "stdout",
     "output_type": "stream",
     "text": [
      "VGG(\n",
      "  (features): Sequential(\n",
      "    (0): Conv2d(3, 64, kernel_size=(3, 3), stride=(1, 1), padding=(1, 1))\n",
      "    (1): ReLU(inplace)\n",
      "    (2): Conv2d(64, 64, kernel_size=(3, 3), stride=(1, 1), padding=(1, 1))\n",
      "    (3): ReLU(inplace)\n",
      "    (4): MaxPool2d(kernel_size=2, stride=2, padding=0, dilation=1, ceil_mode=False)\n",
      "    (5): Conv2d(64, 128, kernel_size=(3, 3), stride=(1, 1), padding=(1, 1))\n",
      "    (6): ReLU(inplace)\n",
      "    (7): Conv2d(128, 128, kernel_size=(3, 3), stride=(1, 1), padding=(1, 1))\n",
      "    (8): ReLU(inplace)\n",
      "    (9): MaxPool2d(kernel_size=2, stride=2, padding=0, dilation=1, ceil_mode=False)\n",
      "    (10): Conv2d(128, 256, kernel_size=(3, 3), stride=(1, 1), padding=(1, 1))\n",
      "    (11): ReLU(inplace)\n",
      "    (12): Conv2d(256, 256, kernel_size=(3, 3), stride=(1, 1), padding=(1, 1))\n",
      "    (13): ReLU(inplace)\n",
      "    (14): Conv2d(256, 256, kernel_size=(3, 3), stride=(1, 1), padding=(1, 1))\n",
      "    (15): ReLU(inplace)\n",
      "    (16): MaxPool2d(kernel_size=2, stride=2, padding=0, dilation=1, ceil_mode=False)\n",
      "    (17): Conv2d(256, 512, kernel_size=(3, 3), stride=(1, 1), padding=(1, 1))\n",
      "    (18): ReLU(inplace)\n",
      "    (19): Conv2d(512, 512, kernel_size=(3, 3), stride=(1, 1), padding=(1, 1))\n",
      "    (20): ReLU(inplace)\n",
      "    (21): Conv2d(512, 512, kernel_size=(3, 3), stride=(1, 1), padding=(1, 1))\n",
      "    (22): ReLU(inplace)\n",
      "    (23): MaxPool2d(kernel_size=2, stride=2, padding=0, dilation=1, ceil_mode=False)\n",
      "    (24): Conv2d(512, 512, kernel_size=(3, 3), stride=(1, 1), padding=(1, 1))\n",
      "    (25): ReLU(inplace)\n",
      "    (26): Conv2d(512, 512, kernel_size=(3, 3), stride=(1, 1), padding=(1, 1))\n",
      "    (27): ReLU(inplace)\n",
      "    (28): Conv2d(512, 512, kernel_size=(3, 3), stride=(1, 1), padding=(1, 1))\n",
      "    (29): ReLU(inplace)\n",
      "    (30): MaxPool2d(kernel_size=2, stride=2, padding=0, dilation=1, ceil_mode=False)\n",
      "  )\n",
      "  (classifier): Sequential(\n",
      "    (fc1): Linear(in_features=25088, out_features=510, bias=True)\n",
      "    (relu1): ReLU()\n",
      "    (dropout1): Dropout(p=0.1)\n",
      "    (fc2): Linear(in_features=510, out_features=102, bias=True)\n",
      "    (output): LogSoftmax()\n",
      "  )\n",
      ")\n"
     ]
    }
   ],
   "source": [
    "# DONE: Write a function that loads a checkpoint and rebuilds the model\n",
    "\n",
    "def load_checkpoint(filepath='checkpoint.pth'):\n",
    "    checkpoint = torch.load(filepath)\n",
    "    if checkpoint['model'] == \"vgg16\":\n",
    "        model = models.vgg16(pretrained=True)\n",
    "    model.eval()\n",
    "    model.classifier = checkpoint['classifier']\n",
    "    model.load_state_dict(checkpoint['state_dict']) \n",
    "    model.class_to_idx = checkpoint['class_to_idx']\n",
    "    epoch = checkpoint['epoch']\n",
    "    return model\n",
    "\n",
    "model = load_checkpoint('checkpoint.pth')\n",
    "print(model)"
   ]
  },
  {
   "cell_type": "markdown",
   "metadata": {},
   "source": [
    "# Inference for classification\n",
    "\n",
    "Now you'll write a function to use a trained network for inference. That is, you'll pass an image into the network and predict the class of the flower in the image. Write a function called `predict` that takes an image and a model, then returns the top $K$ most likely classes along with the probabilities. It should look like \n",
    "\n",
    "```python\n",
    "probs, classes = predict(image_path, model)\n",
    "print(probs)\n",
    "print(classes)\n",
    "> [ 0.01558163  0.01541934  0.01452626  0.01443549  0.01407339]\n",
    "> ['70', '3', '45', '62', '55']\n",
    "```\n",
    "\n",
    "First you'll need to handle processing the input image such that it can be used in your network. \n",
    "\n",
    "## Image Preprocessing\n",
    "\n",
    "You'll want to use `PIL` to load the image ([documentation](https://pillow.readthedocs.io/en/latest/reference/Image.html)). It's best to write a function that preprocesses the image so it can be used as input for the model. This function should process the images in the same manner used for training. \n",
    "\n",
    "First, resize the images where the shortest side is 256 pixels, keeping the aspect ratio. This can be done with the [`thumbnail`](http://pillow.readthedocs.io/en/3.1.x/reference/Image.html#PIL.Image.Image.thumbnail) or [`resize`](http://pillow.readthedocs.io/en/3.1.x/reference/Image.html#PIL.Image.Image.thumbnail) methods. Then you'll need to crop out the center 224x224 portion of the image.\n",
    "\n",
    "Color channels of images are typically encoded as integers 0-255, but the model expected floats 0-1. You'll need to convert the values. It's easiest with a Numpy array, which you can get from a PIL image like so `np_image = np.array(pil_image)`.\n",
    "\n",
    "As before, the network expects the images to be normalized in a specific way. For the means, it's `[0.485, 0.456, 0.406]` and for the standard deviations `[0.229, 0.224, 0.225]`. You'll want to subtract the means from each color channel, then divide by the standard deviation. \n",
    "\n",
    "And finally, PyTorch expects the color channel to be the first dimension but it's the third dimension in the PIL image and Numpy array. You can reorder dimensions using [`ndarray.transpose`](https://docs.scipy.org/doc/numpy-1.13.0/reference/generated/numpy.ndarray.transpose.html). The color channel needs to be first and retain the order of the other two dimensions."
   ]
  },
  {
   "cell_type": "code",
   "execution_count": 85,
   "metadata": {},
   "outputs": [],
   "source": [
    "def process_image(image):\n",
    "    ''' Scales, crops, and normalizes a PIL image for a PyTorch model,\n",
    "        returns an Numpy array\n",
    "    '''\n",
    "    #Perform transformations, convert to tensor and normalize (easier)\n",
    "    transform = transforms.Compose([transforms.Resize(256), \n",
    "                                    transforms.CenterCrop(224), \n",
    "                                    transforms.ToTensor(),\n",
    "                                    transforms.Normalize([0.485, 0.456, 0.406], \n",
    "                                                         [0.229, 0.224, 0.225])])\n",
    "    #Open image and apply transformation\n",
    "    pil_image = Image.open(image)\n",
    "    pil_image = transform(pil_image)\n",
    "    \n",
    "    #Convert to numpy array for return\n",
    "    np_image = np.array(pil_image)    \n",
    "            \n",
    "    return np_image"
   ]
  },
  {
   "cell_type": "markdown",
   "metadata": {},
   "source": [
    "To check your work, the function below converts a PyTorch tensor and displays it in the notebook. If your `process_image` function works, running the output through this function should return the original image (except for the cropped out portions)."
   ]
  },
  {
   "cell_type": "code",
   "execution_count": 86,
   "metadata": {},
   "outputs": [
    {
     "data": {
      "image/png": "[encoded data removed]",
      "text/plain": [
       "<matplotlib.figure.Figure at 0x7fac7542cf60>"
      ]
     },
     "metadata": {},
     "output_type": "display_data"
    }
   ],
   "source": [
    "def imshow(image, ax=None, title=None):\n",
    "    if ax is None:\n",
    "        fig, ax = plt.subplots()\n",
    "    \n",
    "    # PyTorch tensors assume the color channel is the first dimension\n",
    "    # but matplotlib assumes is the third dimension\n",
    "    image = image.transpose((1, 2, 0))\n",
    "    \n",
    "    # Undo preprocessing\n",
    "    mean = np.array([0.485, 0.456, 0.406])\n",
    "    std = np.array([0.229, 0.224, 0.225])\n",
    "    image = std * image + mean\n",
    "    \n",
    "    # Image needs to be clipped between 0 and 1 or it looks like noise when displayed\n",
    "    image = np.clip(image, 0, 1)\n",
    "    \n",
    "    ax.imshow(image)\n",
    "    \n",
    "    return ax\n",
    "\n",
    "imshow(process_image(test_dir + '/1/image_06743.jpg'), ax = plt.subplot(2, 1, 1), title = \"name\");"
   ]
  },
  {
   "cell_type": "markdown",
   "metadata": {},
   "source": [
    "## Class Prediction\n",
    "\n",
    "Once you can get images in the correct format, it's time to write a function for making predictions with your model. A common practice is to predict the top 5 or so (usually called top-$K$) most probable classes. You'll want to calculate the class probabilities then find the $K$ largest values.\n",
    "\n",
    "To get the top $K$ largest values in a tensor use [`x.topk(k)`](http://pytorch.org/docs/master/torch.html#torch.topk). This method returns both the highest `k` probabilities and the indices of those probabilities corresponding to the classes. You need to convert from these indices to the actual class labels using `class_to_idx` which hopefully you added to the model or from an `ImageFolder` you used to load the data ([see here](#Save-the-checkpoint)). Make sure to invert the dictionary so you get a mapping from index to class as well.\n",
    "\n",
    "Again, this method should take a path to an image and a model checkpoint, then return the probabilities and classes.\n",
    "\n",
    "```python\n",
    "probs, classes = predict(image_path, model)\n",
    "print(probs)\n",
    "print(classes)\n",
    "> [ 0.01558163  0.01541934  0.01452626  0.01443549  0.01407339]\n",
    "> ['70', '3', '45', '62', '55']\n",
    "```"
   ]
  },
  {
   "cell_type": "code",
   "execution_count": 90,
   "metadata": {},
   "outputs": [
    {
     "name": "stdout",
     "output_type": "stream",
     "text": [
      "[  9.89129484e-01   3.71007202e-03   2.51918589e-03   1.20917638e-03\n",
      "   6.24554872e-04]\n",
      "['1', '51', '83', '76', '86']\n"
     ]
    }
   ],
   "source": [
    "def predict(image_path, model, topk=5):\n",
    "    ''' Predict the class (or classes) of an image using a trained deep learning model.\n",
    "    '''\n",
    "    model = load_checkpoint(model)\n",
    "    model.to(device)\n",
    "    \n",
    "    # For resolving the cuda and tensor issue https://discuss.pytorch.org/t/torch-cuda-floattensor-type-and-torch-floattensor/1006\n",
    "    np_image = process_image(image_path) #numpy array returned\n",
    "    torch_image = torch.from_numpy(np_image).to(device) #convert to cuda tensor\n",
    "    torch_image = torch_image.unsqueeze_(0).float() #returns float 'cuda' tensor of single dimension (1 column)  \n",
    "    \n",
    "    with torch.no_grad(): \n",
    "        output = model.forward(torch_image) \n",
    "        ps = torch.exp(output) \n",
    "    \n",
    "    #taking top 5 probabilities and their indices \n",
    "    probs, indices = torch.topk(ps, topk)\n",
    "    \n",
    "    #invert class_to_idx\n",
    "    inv_class_to_idx = {index: cls for cls, index in model.class_to_idx.items()}\n",
    "    \n",
    "    classes = []\n",
    "    for index in indices.cpu().numpy()[0]: #iterating through indices\n",
    "        classes.append(inv_class_to_idx[index])\n",
    "    \n",
    "    return probs.cpu().numpy()[0], classes\n",
    "\n",
    "probs, classes = predict(test_dir + '/1/image_06743.jpg', 'checkpoint.pth')\n",
    "print(probs)\n",
    "print(classes)"
   ]
  },
  {
   "cell_type": "markdown",
   "metadata": {},
   "source": [
    "## Sanity Checking\n",
    "\n",
    "Now that you can use a trained model for predictions, check to make sure it makes sense. Even if the testing accuracy is high, it's always good to check that there aren't obvious bugs. Use `matplotlib` to plot the probabilities for the top 5 classes as a bar graph, along with the input image. It should look like this:\n",
    "\n",
    "<img src='assets/inference_example.png' width=300px>\n",
    "\n",
    "You can convert from the class integer encoding to actual flower names with the `cat_to_name.json` file (should have been loaded earlier in the notebook). To show a PyTorch tensor as an image, use the `imshow` function defined above."
   ]
  },
  {
   "cell_type": "code",
   "execution_count": 91,
   "metadata": {},
   "outputs": [
    {
     "data": {
      "image/png": "[encoded data removed]",
      "text/plain": [
       "<matplotlib.figure.Figure at 0x7fac780ee940>"
      ]
     },
     "metadata": {},
     "output_type": "display_data"
    }
   ],
   "source": [
    "# DONE: Display an image along with the top 5 classes\n",
    "image_path = test_dir + '/1/image_06743.jpg'\n",
    "\n",
    "probs, classes = predict(image_path, 'checkpoint.pth')\n",
    "\n",
    "classes = [cat_to_name[c] for c in classes] #convert class integer to flower name\n",
    "title = classes[0] #highest probability class\n",
    "image = imshow(process_image(image_path), ax = plt.subplot(2, 1, 1)) #show image\n",
    "image.axis(\"off\") #removing axis of image\n",
    "image.set_title(title) #title is highest probability of class\n",
    "\n",
    "plt.subplot(2, 1, 2)\n",
    "y_axis = np.arange(5) #top 5 prob\n",
    "x_axis = np.flip(probs, 0) #flip numpy array\n",
    "plt.barh(y_axis, x_axis, align='center', color='blue')\n",
    "plt.yticks(y_axis, np.flip(classes, 0)) #flip classes\n",
    "plt.xticks(np.arange(0,1,0.1))\n",
    "plt.show()"
   ]
  },
  {
   "cell_type": "code",
   "execution_count": null,
   "metadata": {},
   "outputs": [],
   "source": []
  }
 ],
 "metadata": {
  "kernelspec": {
   "display_name": "Python [default]",
   "language": "python",
   "name": "python3"
  },
  "language_info": {
   "codemirror_mode": {
    "name": "ipython",
    "version": 3
   },
   "file_extension": ".py",
   "mimetype": "text/x-python",
   "name": "python",
   "nbconvert_exporter": "python",
   "pygments_lexer": "ipython3",
   "version": "3.6.5"
  }
 },
 "nbformat": 4,
 "nbformat_minor": 2
}
